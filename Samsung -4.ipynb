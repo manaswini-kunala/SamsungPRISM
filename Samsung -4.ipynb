{
 "cells": [
  {
   "cell_type": "code",
   "execution_count": 1,
   "metadata": {},
   "outputs": [],
   "source": [
    "from datetime import datetime\n",
    "import numpy as np\n",
    "import matplotlib.pyplot as plt"
   ]
  },
  {
   "cell_type": "code",
   "execution_count": 2,
   "metadata": {},
   "outputs": [],
   "source": [
    "import pandas as pd\n",
    "import holidays"
   ]
  },
  {
   "cell_type": "code",
   "execution_count": 3,
   "metadata": {},
   "outputs": [],
   "source": [
    "count=[[0 for _ in range(44)]for i in range(144)]\n",
    "x,y=[],[]\n",
    "country_code={\n",
    "    \"Australia\":\"AUS\",\n",
    "    \"Bangladesh\":\"BD\",\n",
    "    \"Canada\":\"CAN\",\n",
    "    \"Germany\":\"DEU\",\n",
    "    \"India\":\"IND\",\n",
    "    \"Japan\":\"JPN\",\n",
    "    \"Switzerland\":\"CHE\",\n",
    "    \"UnitedStates\":\"USA\"\n",
    "}"
   ]
  },
  {
   "cell_type": "code",
   "execution_count": 4,
   "metadata": {},
   "outputs": [],
   "source": [
    "from sklearn.preprocessing import LabelEncoder"
   ]
  },
  {
   "cell_type": "code",
   "execution_count": 5,
   "metadata": {},
   "outputs": [],
   "source": [
    "def prepare_data(path):\n",
    "    data=pd.read_csv(path)\n",
    "    x_part=data[['Timestamp','ProtocolName']]\n",
    "    x.extend(np.array(x_part))\n",
    "    y.extend(np.array(data['weightage']))"
   ]
  },
  {
   "cell_type": "code",
   "execution_count": 6,
   "metadata": {},
   "outputs": [],
   "source": [
    "prepare_data('/home/chinmay/Desktop/Samsung/sample_data1.csv')\n",
    "prepare_data('/home/chinmay/Desktop/Samsung/sample_data2.csv')\n",
    "prepare_data('/home/chinmay/Desktop/Samsung/sample_data3.csv')\n",
    "prepare_data('/home/chinmay/Desktop/Samsung/sample_data4.csv')\n",
    "prepare_data('/home/chinmay/Desktop/Samsung/sample_data5.csv')\n",
    "prepare_data('/home/chinmay/Desktop/Samsung/sample_data6.csv')\n",
    "prepare_data('/home/chinmay/Desktop/Samsung/sample_data7.csv')\n",
    "prepare_data('/home/chinmay/Desktop/Samsung/sample_data8.csv')\n",
    "prepare_data('/home/chinmay/Desktop/Samsung/sample_data9.csv')"
   ]
  },
  {
   "cell_type": "code",
   "execution_count": 7,
   "metadata": {},
   "outputs": [],
   "source": [
    "x=np.array(x)\n",
    "np.random.shuffle(x)\n",
    "LE=LabelEncoder()\n",
    "x[:,1]=LE.fit_transform(x[:,1])\n",
    "for i in range(len(x)):\n",
    "    x[i][0]=(max((datetime.strptime(x[i][0],'%d/%m/%Y%H:%M:%S').hour-1)*6,0))+((datetime.strptime(x[i][0],'%d/%m/%Y%H:%M:%S').minute)//10)\n",
    "    count[x[i][0]][x[i][1]]+=1"
   ]
  },
  {
   "cell_type": "code",
   "execution_count": 8,
   "metadata": {},
   "outputs": [
    {
     "name": "stdout",
     "output_type": "stream",
     "text": [
      "['AMAZON', 'APPLE', 'APPLE_ICLOUD', 'APPLE_ITUNES', 'CITRIX', 'CLOUDFLARE', 'CONTENT_FLASH', 'DNS', 'DROPBOX', 'EASYTAXI', 'EBAY', 'FACEBOOK', 'FTP_DATA', 'GMAIL', 'GOOGLE', 'GOOGLE_MAPS', 'HTTP', 'HTTP_CONNECT', 'HTTP_DOWNLOAD', 'HTTP_PROXY', 'INSTAGRAM', 'IP_ICMP', 'MAIL_IMAPS', 'MICROSOFT', 'MQTT', 'MSN', 'MSSQL', 'MS_ONE_DRIVE', 'NTP', 'OFFICE_365', 'OPENSIGNAL', 'SKYPE', 'SPOTIFY', 'SSL', 'SSL_NO_CERT', 'TEAMVIEWER', 'TOR', 'TWITTER', 'UBUNTUONE', 'WHATSAPP', 'WIKIPEDIA', 'WINDOWS_UPDATE', 'YAHOO', 'YOUTUBE']\n",
      "44\n"
     ]
    }
   ],
   "source": [
    "protocols=list(LE.classes_)\n",
    "print(protocols)\n",
    "print(len(protocols))"
   ]
  },
  {
   "cell_type": "code",
   "execution_count": 9,
   "metadata": {},
   "outputs": [
    {
     "name": "stdout",
     "output_type": "stream",
     "text": [
      "180006 2\n"
     ]
    }
   ],
   "source": [
    "print(len(x),len(x[0]))"
   ]
  },
  {
   "cell_type": "code",
   "execution_count": 10,
   "metadata": {},
   "outputs": [],
   "source": [
    "from sklearn.model_selection import train_test_split\n",
    "x_train,x_test,y_train,y_test=train_test_split(x,y,test_size=0.2,random_state=42)"
   ]
  },
  {
   "cell_type": "code",
   "execution_count": 11,
   "metadata": {},
   "outputs": [
    {
     "name": "stdout",
     "output_type": "stream",
     "text": [
      "144004 2 36002 2 144004 36002\n"
     ]
    }
   ],
   "source": [
    "print(len(x_train),len(x_train[0]),len(x_test),len(x_test[0]),len(y_train),len(y_test))"
   ]
  },
  {
   "cell_type": "code",
   "execution_count": 12,
   "metadata": {},
   "outputs": [],
   "source": [
    "from sklearn.preprocessing import StandardScaler\n",
    "scaler=StandardScaler()\n",
    "scaler.fit(x_train)\n",
    "x_train=scaler.transform(x_train)\n",
    "x_test=scaler.transform(x_test)"
   ]
  },
  {
   "cell_type": "code",
   "execution_count": 13,
   "metadata": {},
   "outputs": [],
   "source": [
    "from sklearn.linear_model import LogisticRegression\n",
    "from sklearn.tree import DecisionTreeClassifier\n",
    "from sklearn.ensemble import RandomForestClassifier\n",
    "from sklearn.linear_model import Perceptron\n",
    "from sklearn.neighbors import KNeighborsClassifier\n",
    "\n",
    "model1=LogisticRegression()\n",
    "model2=DecisionTreeClassifier(max_depth=20)\n",
    "model3=RandomForestClassifier(n_jobs=-1,n_estimators=100,max_depth=20)\n",
    "model4=Perceptron()\n",
    "model5=KNeighborsClassifier(n_neighbors=44)"
   ]
  },
  {
   "cell_type": "code",
   "execution_count": 14,
   "metadata": {},
   "outputs": [
    {
     "data": {
      "text/plain": [
       "KNeighborsClassifier(algorithm='auto', leaf_size=30, metric='minkowski',\n",
       "                     metric_params=None, n_jobs=None, n_neighbors=44, p=2,\n",
       "                     weights='uniform')"
      ]
     },
     "execution_count": 14,
     "metadata": {},
     "output_type": "execute_result"
    }
   ],
   "source": [
    "model1.fit(x_train,y_train)\n",
    "model2.fit(x_train,y_train)\n",
    "model3.fit(x_train,y_train)\n",
    "model4.fit(x_train,y_train)\n",
    "model5.fit(x_train,y_train)"
   ]
  },
  {
   "cell_type": "code",
   "execution_count": 15,
   "metadata": {},
   "outputs": [],
   "source": [
    "y_pred1=model1.predict(x_test)\n",
    "y_pred2=model2.predict(x_test)\n",
    "y_pred3=model3.predict(x_test)\n",
    "y_pred4=model4.predict(x_test)\n",
    "y_pred5=model5.predict(x_test)"
   ]
  },
  {
   "cell_type": "code",
   "execution_count": 16,
   "metadata": {},
   "outputs": [
    {
     "name": "stdout",
     "output_type": "stream",
     "text": [
      "Multilayer Perceptron Accuracy :  86.6479640019999\n",
      "Logstic Regression Accuracy :  89.58391200488862\n",
      "Decision Tree Accuracy :  89.58113438142325\n",
      "Random Forest Accuracy :  89.57835675795789\n",
      "K Nearest Neighbours Accuracy :  89.58391200488862\n"
     ]
    }
   ],
   "source": [
    "print(\"Multilayer Perceptron Accuracy : \",100*len([x for x in y_test==y_pred4 if x==True])/len(y_test))\n",
    "print(\"Logstic Regression Accuracy : \",100*len([x for x in y_test==y_pred1 if x==True])/len(y_test))\n",
    "print(\"Decision Tree Accuracy : \",100*len([x for x in y_test==y_pred2 if x==True])/len(y_test))\n",
    "print(\"Random Forest Accuracy : \",100*len([x for x in y_test==y_pred3 if x==True])/len(y_test))\n",
    "print(\"K Nearest Neighbours Accuracy : \",100*len([x for x in y_test==y_pred5 if x==True])/len(y_test))"
   ]
  }
 ],
 "metadata": {
  "kernelspec": {
   "display_name": "Python 3",
   "language": "python",
   "name": "python3"
  },
  "language_info": {
   "codemirror_mode": {
    "name": "ipython",
    "version": 3
   },
   "file_extension": ".py",
   "mimetype": "text/x-python",
   "name": "python",
   "nbconvert_exporter": "python",
   "pygments_lexer": "ipython3",
   "version": "3.7.6"
  }
 },
 "nbformat": 4,
 "nbformat_minor": 4
}
