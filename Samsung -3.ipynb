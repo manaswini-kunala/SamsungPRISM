{
 "cells": [
  {
   "cell_type": "code",
   "execution_count": 1,
   "metadata": {},
   "outputs": [],
   "source": [
    "from datetime import datetime\n",
    "import numpy as np\n",
    "import matplotlib.pyplot as plt"
   ]
  },
  {
   "cell_type": "code",
   "execution_count": 2,
   "metadata": {},
   "outputs": [],
   "source": [
    "import pandas as pd\n",
    "import holidays"
   ]
  },
  {
   "cell_type": "code",
   "execution_count": 3,
   "metadata": {},
   "outputs": [],
   "source": [
    "count=[[0 for _ in range(44)]for i in range(144)]\n",
    "x=[]\n",
    "country_code={\n",
    "    \"Australia\":\"AUS\",\n",
    "    \"Bangladesh\":\"BD\",\n",
    "    \"Canada\":\"CAN\",\n",
    "    \"Germany\":\"DEU\",\n",
    "    \"India\":\"IND\",\n",
    "    \"Japan\":\"JPN\",\n",
    "    \"Switzerland\":\"CHE\",\n",
    "    \"UnitedStates\":\"USA\"\n",
    "}"
   ]
  },
  {
   "cell_type": "code",
   "execution_count": 4,
   "metadata": {},
   "outputs": [],
   "source": [
    "from sklearn.preprocessing import LabelEncoder"
   ]
  },
  {
   "cell_type": "code",
   "execution_count": 5,
   "metadata": {},
   "outputs": [],
   "source": [
    "def prepare_data(path):\n",
    "    data=pd.read_csv(path)\n",
    "    x_part=data[['Timestamp','ProtocolName']]\n",
    "    x.extend(np.array(x_part))"
   ]
  },
  {
   "cell_type": "code",
   "execution_count": 6,
   "metadata": {},
   "outputs": [],
   "source": [
    "prepare_data('/home/chinmay/Desktop/Samsung/sample_data1.csv')\n",
    "prepare_data('/home/chinmay/Desktop/Samsung/sample_data2.csv')\n",
    "prepare_data('/home/chinmay/Desktop/Samsung/sample_data3.csv')\n",
    "prepare_data('/home/chinmay/Desktop/Samsung/sample_data4.csv')\n",
    "prepare_data('/home/chinmay/Desktop/Samsung/sample_data5.csv')\n",
    "prepare_data('/home/chinmay/Desktop/Samsung/sample_data6.csv')\n",
    "prepare_data('/home/chinmay/Desktop/Samsung/sample_data7.csv')\n",
    "prepare_data('/home/chinmay/Desktop/Samsung/sample_data8.csv')\n",
    "prepare_data('/home/chinmay/Desktop/Samsung/sample_data9.csv')"
   ]
  },
  {
   "cell_type": "code",
   "execution_count": 7,
   "metadata": {},
   "outputs": [],
   "source": [
    "x=np.array(x)\n",
    "np.random.shuffle(x)\n",
    "LE=LabelEncoder()\n",
    "x[:,1]=LE.fit_transform(x[:,1])\n",
    "for i in range(len(x)):\n",
    "    x[i][0]=(max((datetime.strptime(x[i][0],'%d/%m/%Y%H:%M:%S').hour-1)*6,0))+((datetime.strptime(x[i][0],'%d/%m/%Y%H:%M:%S').minute)//10)\n",
    "    count[x[i][0]][x[i][1]]+=1"
   ]
  },
  {
   "cell_type": "code",
   "execution_count": 8,
   "metadata": {},
   "outputs": [
    {
     "name": "stdout",
     "output_type": "stream",
     "text": [
      "['AMAZON', 'APPLE', 'APPLE_ICLOUD', 'APPLE_ITUNES', 'CITRIX', 'CLOUDFLARE', 'CONTENT_FLASH', 'DNS', 'DROPBOX', 'EASYTAXI', 'EBAY', 'FACEBOOK', 'FTP_DATA', 'GMAIL', 'GOOGLE', 'GOOGLE_MAPS', 'HTTP', 'HTTP_CONNECT', 'HTTP_DOWNLOAD', 'HTTP_PROXY', 'INSTAGRAM', 'IP_ICMP', 'MAIL_IMAPS', 'MICROSOFT', 'MQTT', 'MSN', 'MSSQL', 'MS_ONE_DRIVE', 'NTP', 'OFFICE_365', 'OPENSIGNAL', 'SKYPE', 'SPOTIFY', 'SSL', 'SSL_NO_CERT', 'TEAMVIEWER', 'TOR', 'TWITTER', 'UBUNTUONE', 'WHATSAPP', 'WIKIPEDIA', 'WINDOWS_UPDATE', 'YAHOO', 'YOUTUBE']\n",
      "44\n"
     ]
    }
   ],
   "source": [
    "protocols=list(LE.classes_)\n",
    "print(protocols)\n",
    "print(len(protocols))"
   ]
  },
  {
   "cell_type": "code",
   "execution_count": 9,
   "metadata": {},
   "outputs": [],
   "source": [
    "from sklearn.preprocessing import MinMaxScaler\n",
    "scaler2=MinMaxScaler(feature_range=(1,44))"
   ]
  },
  {
   "cell_type": "code",
   "execution_count": 10,
   "metadata": {},
   "outputs": [],
   "source": [
    "k=0\n",
    "def prioritize(path):\n",
    "    global k\n",
    "    data=pd.read_csv(path)\n",
    "    data[\"weightage\"]='4'\n",
    "    for i in range(k,len(data)):\n",
    "        weight=0.7*(max((datetime.strptime(data['Timestamp'][i],'%d/%m/%Y%H:%M:%S').hour-1)*6,0)+(datetime.strptime(data['Timestamp'][i],'%d/%m/%Y%H:%M:%S').minute//10)*protocols.index(data['ProtocolName'][i]))\n",
    "        if not datetime.date(datetime.strptime(data['Timestamp'][i],'%d/%m/%Y%H:%M:%S')) in holidays.CountryHoliday(country_code[data['Country'][i]]):\n",
    "            weight=weight*3/7\n",
    "        data[\"weightage\"][i]=0.3*count[x[k+i][0]][x[k+i][1]]+weight\n",
    "    data[\"weightage\"]=np.around(scaler2.fit_transform(np.array(data[\"weightage\"]).reshape(-1,1)))\n",
    "    data.to_csv(path,index=False)\n",
    "    k+=len(data)"
   ]
  },
  {
   "cell_type": "code",
   "execution_count": 11,
   "metadata": {},
   "outputs": [
    {
     "name": "stderr",
     "output_type": "stream",
     "text": [
      "/home/chinmay/anaconda3/lib/python3.7/site-packages/ipykernel_launcher.py:10: SettingWithCopyWarning: \n",
      "A value is trying to be set on a copy of a slice from a DataFrame\n",
      "\n",
      "See the caveats in the documentation: https://pandas.pydata.org/pandas-docs/stable/user_guide/indexing.html#returning-a-view-versus-a-copy\n",
      "  # Remove the CWD from sys.path while we load stuff.\n",
      "/home/chinmay/anaconda3/lib/python3.7/site-packages/ipykernel_launcher.py:10: SettingWithCopyWarning: \n",
      "A value is trying to be set on a copy of a slice from a DataFrame\n",
      "\n",
      "See the caveats in the documentation: https://pandas.pydata.org/pandas-docs/stable/user_guide/indexing.html#returning-a-view-versus-a-copy\n",
      "  # Remove the CWD from sys.path while we load stuff.\n"
     ]
    }
   ],
   "source": [
    "prioritize('/home/chinmay/Desktop/Samsung/sample_data1.csv')\n",
    "prioritize('/home/chinmay/Desktop/Samsung/sample_data2.csv')\n",
    "prioritize('/home/chinmay/Desktop/Samsung/sample_data3.csv')\n",
    "prioritize('/home/chinmay/Desktop/Samsung/sample_data4.csv')\n",
    "prioritize('/home/chinmay/Desktop/Samsung/sample_data5.csv')\n",
    "prioritize('/home/chinmay/Desktop/Samsung/sample_data6.csv')\n",
    "prioritize('/home/chinmay/Desktop/Samsung/sample_data7.csv')\n",
    "prioritize('/home/chinmay/Desktop/Samsung/sample_data8.csv')\n",
    "prioritize('/home/chinmay/Desktop/Samsung/sample_data9.csv')"
   ]
  },
  {
   "cell_type": "code",
   "execution_count": 12,
   "metadata": {},
   "outputs": [],
   "source": [
    "j,priority=[],[[0 for _ in range(44)]for i in range(144)]\n",
    "for i in count:\n",
    "    j.append((-np.array(i)).argsort())\n",
    "for d in range(len(j)):\n",
    "    k=1\n",
    "    for m in range(len(j[0])):\n",
    "        priority[d][j[d][m]]=k\n",
    "        k+=1   \n",
    "y=[]\n",
    "for i in range(len(x)):\n",
    "    y.append(priority[x[i][0]][x[i][1]])"
   ]
  },
  {
   "cell_type": "code",
   "execution_count": 13,
   "metadata": {},
   "outputs": [
    {
     "name": "stdout",
     "output_type": "stream",
     "text": [
      "180006 2\n"
     ]
    }
   ],
   "source": [
    "print(len(x),len(x[0]))"
   ]
  },
  {
   "cell_type": "code",
   "execution_count": 14,
   "metadata": {},
   "outputs": [],
   "source": [
    "from sklearn.model_selection import train_test_split\n",
    "x_train,x_test,y_train,y_test=train_test_split(x,y,test_size=0.2,random_state=42)"
   ]
  },
  {
   "cell_type": "code",
   "execution_count": 15,
   "metadata": {},
   "outputs": [
    {
     "name": "stdout",
     "output_type": "stream",
     "text": [
      "144004 2 36002 2 144004 36002\n"
     ]
    }
   ],
   "source": [
    "print(len(x_train),len(x_train[0]),len(x_test),len(x_test[0]),len(y_train),len(y_test))"
   ]
  },
  {
   "cell_type": "code",
   "execution_count": 16,
   "metadata": {},
   "outputs": [],
   "source": [
    "from sklearn.preprocessing import StandardScaler\n",
    "scaler=StandardScaler()\n",
    "scaler.fit(x_train)\n",
    "x_train=scaler.transform(x_train)\n",
    "x_test=scaler.transform(x_test)"
   ]
  },
  {
   "cell_type": "code",
   "execution_count": 17,
   "metadata": {},
   "outputs": [],
   "source": [
    "from sklearn.linear_model import LogisticRegression\n",
    "from sklearn.tree import DecisionTreeClassifier\n",
    "from sklearn.ensemble import RandomForestClassifier\n",
    "from sklearn.linear_model import Perceptron\n",
    "from sklearn.neighbors import KNeighborsClassifier\n",
    "\n",
    "model1=LogisticRegression()\n",
    "model2=DecisionTreeClassifier(max_depth=20)\n",
    "model3=RandomForestClassifier(n_jobs=-1,n_estimators=100,max_depth=20)\n",
    "model4=Perceptron()\n",
    "model5=KNeighborsClassifier(n_neighbors=37)"
   ]
  },
  {
   "cell_type": "code",
   "execution_count": 18,
   "metadata": {},
   "outputs": [
    {
     "name": "stderr",
     "output_type": "stream",
     "text": [
      "/home/chinmay/anaconda3/lib/python3.7/site-packages/sklearn/linear_model/_logistic.py:940: ConvergenceWarning: lbfgs failed to converge (status=1):\n",
      "STOP: TOTAL NO. of ITERATIONS REACHED LIMIT.\n",
      "\n",
      "Increase the number of iterations (max_iter) or scale the data as shown in:\n",
      "    https://scikit-learn.org/stable/modules/preprocessing.html\n",
      "Please also refer to the documentation for alternative solver options:\n",
      "    https://scikit-learn.org/stable/modules/linear_model.html#logistic-regression\n",
      "  extra_warning_msg=_LOGISTIC_SOLVER_CONVERGENCE_MSG)\n"
     ]
    },
    {
     "data": {
      "text/plain": [
       "KNeighborsClassifier(algorithm='auto', leaf_size=30, metric='minkowski',\n",
       "                     metric_params=None, n_jobs=None, n_neighbors=37, p=2,\n",
       "                     weights='uniform')"
      ]
     },
     "execution_count": 18,
     "metadata": {},
     "output_type": "execute_result"
    }
   ],
   "source": [
    "model1.fit(x_train,y_train)\n",
    "model2.fit(x_train,y_train)\n",
    "model3.fit(x_train,y_train)\n",
    "model4.fit(x_train,y_train)\n",
    "model5.fit(x_train,y_train)"
   ]
  },
  {
   "cell_type": "code",
   "execution_count": 19,
   "metadata": {},
   "outputs": [],
   "source": [
    "y_pred1=model1.predict(x_test)\n",
    "y_pred2=model2.predict(x_test)\n",
    "y_pred3=model3.predict(x_test)\n",
    "y_pred4=model4.predict(x_test)\n",
    "y_pred5=model5.predict(x_test)"
   ]
  },
  {
   "cell_type": "code",
   "execution_count": 20,
   "metadata": {},
   "outputs": [
    {
     "name": "stdout",
     "output_type": "stream",
     "text": [
      "Multilayer Perceptron Accuracy :  44.825287484028664\n",
      "Logstic Regression Accuracy :  54.63863118715627\n",
      "Decision Tree Accuracy :  99.99722237653464\n",
      "Random Forest Accuracy :  99.99722237653464\n",
      "K Nearest Neighbours Accuracy :  99.76945725237486\n"
     ]
    }
   ],
   "source": [
    "print(\"Multilayer Perceptron Accuracy : \",100*len([x for x in y_test==y_pred4 if x==True])/len(y_test))\n",
    "print(\"Logstic Regression Accuracy : \",100*len([x for x in y_test==y_pred1 if x==True])/len(y_test))\n",
    "print(\"Decision Tree Accuracy : \",100*len([x for x in y_test==y_pred2 if x==True])/len(y_test))\n",
    "print(\"Random Forest Accuracy : \",100*len([x for x in y_test==y_pred3 if x==True])/len(y_test))\n",
    "print(\"K Nearest Neighbours Accuracy : \",100*len([x for x in y_test==y_pred5 if x==True])/len(y_test))"
   ]
  },
  {
   "cell_type": "code",
   "execution_count": null,
   "metadata": {},
   "outputs": [],
   "source": []
  }
 ],
 "metadata": {
  "kernelspec": {
   "display_name": "Python 3",
   "language": "python",
   "name": "python3"
  },
  "language_info": {
   "codemirror_mode": {
    "name": "ipython",
    "version": 3
   },
   "file_extension": ".py",
   "mimetype": "text/x-python",
   "name": "python",
   "nbconvert_exporter": "python",
   "pygments_lexer": "ipython3",
   "version": "3.7.6"
  }
 },
 "nbformat": 4,
 "nbformat_minor": 4
}
